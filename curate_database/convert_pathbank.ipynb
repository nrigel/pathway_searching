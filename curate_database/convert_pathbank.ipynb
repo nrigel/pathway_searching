{
 "cells": [
  {
   "cell_type": "code",
   "execution_count": 1,
   "metadata": {},
   "outputs": [
    {
     "data": {
      "text/plain": [
       "'PW002044.owl\\nSMP0000060\\nconvert_pathbank.ipynb\\npathbank_all_biopax.zip\\n'"
      ]
     },
     "execution_count": 1,
     "metadata": {},
     "output_type": "execute_result"
    }
   ],
   "source": [
    "import os\n",
    "os.popen('ls').read()"
   ]
  },
  {
   "cell_type": "code",
   "execution_count": 40,
   "metadata": {},
   "outputs": [
    {
     "data": {
      "text/plain": [
       "{'BioSource',\n",
       " 'BiochemicalPathwayStep',\n",
       " 'BiochemicalReaction',\n",
       " 'Catalysis',\n",
       " 'CellularLocationVocabulary',\n",
       " 'ChemicalStructure',\n",
       " 'Complex',\n",
       " 'Interaction',\n",
       " 'Pathway',\n",
       " 'PathwayStep',\n",
       " 'Protein',\n",
       " 'ProteinReference',\n",
       " 'SmallMolecule',\n",
       " 'SmallMoleculeReference',\n",
       " 'Stoichiometry',\n",
       " 'Transport',\n",
       " 'UnificationXref'}"
      ]
     },
     "execution_count": 40,
     "metadata": {},
     "output_type": "execute_result"
    }
   ],
   "source": [
    "def xml_key(l):\n",
    "    if l and l[:4] == '<bp:' and l[1] != '/' and l[1] != '?':\n",
    "        return l.split()[0][4:]\n",
    "\n",
    "with open('PW002044.owl') as owl:\n",
    "    owl = [l.rstrip() for l in owl.readlines()]\n",
    "xml = set([xml_key(l) for l in owl if xml_key(l)])\n",
    "xml"
   ]
  },
  {
   "cell_type": "code",
   "execution_count": 155,
   "metadata": {
    "scrolled": false
   },
   "outputs": [],
   "source": [
    "%reset -sf \n",
    "import xml.etree.ElementTree as ET\n",
    "import networkx as nx\n",
    "\n",
    "context = ET.iterparse('PW002044.owl', events=('end', ))\n",
    "tree = [elem for event, elem in context]\n",
    "\n",
    "for i in range(len(tree)):\n",
    "    tree[i].set('pyindex', i)\n",
    "\n",
    "child_to_parent, parent_to_children = {}, {} # direct descendants only\n",
    "elem_data, IDs = {}, {}\n",
    "for elem in tree:    \n",
    "    elem_data[elem.get('pyindex')] = {}\n",
    "    TAG = elem.tag\n",
    "    if '{' == TAG[0]:\n",
    "        TAG = TAG.split('}')[1]\n",
    "    elem_data[elem.get('pyindex')]['tag'] = TAG\n",
    "    \n",
    "    for key, value in elem.items():\n",
    "        KEY = key\n",
    "        if '{' == key[0]:\n",
    "            KEY = key.split('}')[1]\n",
    "        if KEY == 'resource':\n",
    "            elem_data[elem.get('pyindex')]['type'] = value[1:].split('/')[0]\n",
    "        if KEY == 'ID':\n",
    "            elem_data[elem.get('pyindex')]['type'] = value.split('/')[0]\n",
    "            IDs[value] = elem.get('pyindex')\n",
    "        elem_data[elem.get('pyindex')][KEY] =  value\n",
    "    \n",
    "    for child in elem:\n",
    "        if len(list(child)) == 0:\n",
    "            child_to_parent[child.get('pyindex')] = elem.get('pyindex')\n",
    "            if elem.get('pyindex') not in parent_to_children:\n",
    "                parent_to_children[elem.get('pyindex')] = []\n",
    "            parent_to_children[elem.get('pyindex')].extend([str(child.get('pyindex'))])  \n",
    "            \n",
    "# Track tags\n",
    "tags = {t: [] for t in set(elem_data[e]['tag'] for e in elem_data)}\n",
    "for elem in elem_data:\n",
    "    tags[elem_data[elem]['tag']].extend([elem_data[elem]['pyindex']])\n",
    "\n",
    "# Add data to Graph object\n",
    "G = nx.DiGraph()\n",
    "\n",
    "G.add_nodes_from([(e, elem_data[IDs[e]]) for e in IDs])\n",
    "\n",
    "# Add pathway order to Graph\n",
    "for parent in tags['Pathway']:\n",
    "    i = elem_data[parent]['pyindex']\n",
    "    G.add_nodes_from([(i, elem_data[parent])])\n",
    "    pathwayOrder = [c for c in parent_to_children[i] if elem_data[int(c)]['tag'] == 'pathwayOrder']\n",
    "    for child in pathwayOrder:\n",
    "        id = elem_data[int(child)]['resource'][1:]\n",
    "        \n",
    "        \n",
    "# Add SmallMoleculeReference to Graph\n",
    "for elem in tags['SmallMoleculeReference']:\n",
    "    #print(elem_data[elem])\n",
    "    \n",
    "    \n",
    "    break\n",
    "    \n",
    "#print(tags.keys())\n",
    "\n",
    "    "
   ]
  },
  {
   "cell_type": "code",
   "execution_count": null,
   "metadata": {},
   "outputs": [],
   "source": [
    "\n",
    "\n",
    "\n",
    "\n",
    "\n",
    "\n",
    "\n",
    "\n",
    "\n",
    "\n",
    "\n",
    "\n",
    "\n",
    "\n",
    "\n",
    "\n",
    "\n",
    "\n",
    "\n",
    "\n",
    "\n",
    "\n",
    "\n",
    "\n",
    "\n",
    "\n",
    "\n",
    "\n",
    "\n",
    "\n"
   ]
  }
 ],
 "metadata": {
  "kernelspec": {
   "display_name": "Python 3",
   "language": "python",
   "name": "python3"
  },
  "language_info": {
   "codemirror_mode": {
    "name": "ipython",
    "version": 3
   },
   "file_extension": ".py",
   "mimetype": "text/x-python",
   "name": "python",
   "nbconvert_exporter": "python",
   "pygments_lexer": "ipython3",
   "version": "3.7.3"
  }
 },
 "nbformat": 4,
 "nbformat_minor": 4
}
