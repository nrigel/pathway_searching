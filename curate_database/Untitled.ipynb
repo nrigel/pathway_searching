{
 "cells": [
  {
   "cell_type": "code",
   "execution_count": 4,
   "metadata": {},
   "outputs": [],
   "source": [
    "import csv, json\n",
    "rows = []\n",
    "with open('pathbank_data/pathbank_motiflists.csv') as csvin:\n",
    "    for row in csv.reader(csvin):\n",
    "        rows.extend([row])\n",
    "    "
   ]
  },
  {
   "cell_type": "code",
   "execution_count": 22,
   "metadata": {},
   "outputs": [],
   "source": [
    "new_rows = [rows[0]]\n",
    "with open('pathbank_data/pathbank_motiflists.csv', 'w') as csvout:\n",
    "    writer = csv.writer(csvout)\n",
    "    writer.writerow(rows[0])\n",
    "    for row in rows[1:]:\n",
    "        new_row = [row[0]]\n",
    "        if row[1]:\n",
    "            r = json.loads(row[1])\n",
    "            for R in range(len(r)):\n",
    "                I = r[R].split(', ')\n",
    "                I[0] = ' '.join(sorted(I[0].split(), key=lambda x: int(x)))\n",
    "                for i in range(1, len(I)):\n",
    "                    smiles, spinsys = I[i].split('_')\n",
    "                    I[i] = smiles+'_'+' '.join(sorted(spinsys.split(), key=lambda x: int(x)))\n",
    "                r[R] = '.'.join(I)\n",
    "            new_row = new_row+[json.dumps(r)]+row[2:]\n",
    "        else:\n",
    "            new_row = new_row+row[1:]\n",
    "        writer.writerow(new_row)\n",
    "    "
   ]
  },
  {
   "cell_type": "code",
   "execution_count": null,
   "metadata": {},
   "outputs": [],
   "source": []
  }
 ],
 "metadata": {
  "kernelspec": {
   "display_name": "Python 3",
   "language": "python",
   "name": "python3"
  },
  "language_info": {
   "codemirror_mode": {
    "name": "ipython",
    "version": 3
   },
   "file_extension": ".py",
   "mimetype": "text/x-python",
   "name": "python",
   "nbconvert_exporter": "python",
   "pygments_lexer": "ipython3",
   "version": "3.7.6"
  }
 },
 "nbformat": 4,
 "nbformat_minor": 4
}
